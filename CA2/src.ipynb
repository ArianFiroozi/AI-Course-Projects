{
 "cells": [
  {
   "cell_type": "markdown",
   "metadata": {
    "id": "d0W-WuYsjWPP"
   },
   "source": [
    "# Artificial Intelligence CA2\n",
    "## *Reinforcement Learning*\n",
    "## Arian Firoozi 810100196"
   ]
  },
  {
   "cell_type": "markdown",
   "metadata": {},
   "source": [
    "In this assignment, reinforcement learning is used to solve two problems from **gym** environment."
   ]
  },
  {
   "cell_type": "markdown",
   "metadata": {
    "id": "ksnYjMyNPAcn"
   },
   "source": [
    "# Table of Contents\n",
    "\n",
    "- [Part 1: Value Iteration & Policy Iteration Algorithms](#1)\n",
    "    - [َQuestion 1:](#1-0)\n",
    "    - [َQuestion 2:](#1-1)\n",
    "    - [َQuestion 3:](#1-12)\n",
    "    - [َQuestion 4:](#1-2)\n",
    "    - [َQuestion 5:](#1-3)\n",
    "        - [Value Iteration](#1-3-1)\n",
    "        - [Policy Iteration](#1-3-2)\n",
    "    - [َQuestion 6:](#1-4)\n",
    "        - [Value Iteration](#1-4-1)\n",
    "        - [Policy Iteration](#1-4-2)\n",
    "        - [Results](#1-4-3)\n",
    "- [Part 2: Q-Learning Algorithm](#2)\n",
    "    - [Question 7:](#2-1)\n",
    "    - [َQuestion 8:](#2-2)\n",
    "    - [َQuestion 9:](#2-3)\n",
    "    - [َQuestion 10:](#2-4)"
   ]
  },
  {
   "cell_type": "code",
   "execution_count": 1,
   "metadata": {
    "id": "dpTWKluXMHP5"
   },
   "outputs": [],
   "source": [
    "# import\n",
    "import numpy as np\n",
    "import gym\n",
    "import time\n",
    "import matplotlib.pyplot as plt\n",
    "import seaborn\n",
    "import random\n",
    "\n",
    "SEED = 196"
   ]
  },
  {
   "cell_type": "markdown",
   "metadata": {
    "id": "EifP8FUKLXE7"
   },
   "source": [
    "<a name='1'></a>\n",
    "## Part 1: Value Iteration & Policy Iteration Algorithms"
   ]
  },
  {
   "cell_type": "markdown",
   "metadata": {
    "id": "iVJmGmCUnIGR"
   },
   "source": [
    "<a name='1-0'></a>\n",
    "### Question 1:"
   ]
  },
  {
   "cell_type": "markdown",
   "metadata": {
    "id": "xRDhQMwwnK2s"
   },
   "source": [
    "Value iteration is a method of computing optimal value function of the environment. In each step of the algorithm it updates the value function by the formula:\n",
    "\n",
    " V(s) = max $ \\sum $  [p(s'|s,a) * (R(s,a,s') + γ * V(s'))]\n",
    "\n",
    "Value function improves with each step, therefore resulting in it converging after finite steps of running the algorithm.\n"
   ]
  },
  {
   "cell_type": "markdown",
   "metadata": {
    "id": "MO24LtBGLXZ7"
   },
   "source": [
    "<a name='1-1'></a>\n",
    "### Question 2:"
   ]
  },
  {
   "cell_type": "code",
   "execution_count": 2,
   "metadata": {
    "id": "VKP8LjK5jGoW"
   },
   "outputs": [],
   "source": [
    "class ValueIteration():\n",
    "    def __init__(self, env:gym.Env, discount_factor, theta=1e-8):\n",
    "        self.env = env\n",
    "        self.discount_factor = discount_factor\n",
    "        self.theta = theta\n",
    "        self.reset()\n",
    "        self.state_values = np.ones((self.env.observation_space.n)) / self.env.action_space.n\n",
    "        self.q_values = np.ones((self.env.observation_space.n, self.env.action_space.n)) / self.env.action_space.n\n",
    "        self.state_values[self.env.observation_space.n - 1] = 0\n",
    "        self.q_values[self.env.observation_space.n - 1] = np.zeros((self.env.action_space.n))\n",
    "\n",
    "    def value_estimation(self):\n",
    "        self.delta = np.inf\n",
    "\n",
    "        n = 0\n",
    "        while(self.delta > self.theta):\n",
    "\n",
    "            self.delta = 0\n",
    "\n",
    "            for state in range(self.env.observation_space.n):\n",
    "\n",
    "                v = self.state_values[state]\n",
    "\n",
    "                for action in range(self.env.action_space.n):\n",
    "                    action_value = 0\n",
    "                    for probability, next_state, reward, done in self.env.P[state][action]:\n",
    "                        ### START CODE HERE ###\n",
    "                         action_value += probability * (reward + self.state_values[next_state] * self.discount_factor)\n",
    "                        ### END CODE HERE ###\n",
    "                    self.q_values[state, action] = action_value\n",
    "\n",
    "                self.state_values[state] = np.max(self.q_values[state,:])\n",
    "\n",
    "                self.delta = np.max([self.delta, abs(v - self.state_values[state])])\n",
    "\n",
    "                if (self.delta < self.theta):\n",
    "                    break\n",
    "            n+=1\n",
    "        return n\n",
    "\n",
    "    def take_action(self, action):\n",
    "        next_state, reward, done, _,_ = self.env.step(action)\n",
    "        return next_state, reward, done\n",
    "\n",
    "    def get_optimal_policy(self, state):\n",
    "        return np.argmax(self.q_values[state,:])\n",
    "\n",
    "    def get_state_values(self):\n",
    "        return self.state_values\n",
    "\n",
    "    def get_q_values(self):\n",
    "        return self.q_values\n",
    "\n",
    "    def reset(self):\n",
    "        initial_state = self.env.reset()\n",
    "        return initial_state\n",
    "   "
   ]
  },
  {
   "cell_type": "markdown",
   "metadata": {
    "id": "frjc5mR4ncm1"
   },
   "source": [
    "<a name='1-12'></a>\n",
    "### Question 3:"
   ]
  },
  {
   "cell_type": "markdown",
   "metadata": {
    "id": "AMJJpf1tnddF"
   },
   "source": [
    "Policy iteration is an alternative to value iteration which consists of two main steps: policy evaluation (that evaluates V function for the policy), and policy improvement (that updates the policy via one step lookahead approach). This algorithm runs until the policy converges, which generally does so with fewer iterations compared to value iteration algorithm."
   ]
  },
  {
   "cell_type": "markdown",
   "metadata": {
    "id": "V4DcH5yJLXqH"
   },
   "source": [
    "<a name='1-2'></a>\n",
    "### Question 4:"
   ]
  },
  {
   "cell_type": "code",
   "execution_count": 3,
   "metadata": {
    "executionInfo": {
     "elapsed": 14,
     "status": "ok",
     "timestamp": 1698433256083,
     "user": {
      "displayName": "Mohammad Saadati",
      "userId": "00242434153251678664"
     },
     "user_tz": -210
    },
    "id": "XjSb1lX147hd"
   },
   "outputs": [],
   "source": [
    "class PolicyIteration():\n",
    "    def __init__(self, env, discount_factor, theta=1e-8):\n",
    "        self.env = env\n",
    "        self.discount_factor = discount_factor\n",
    "        self.theta = theta\n",
    "        self.reset()\n",
    "        self.state_values = np.ones((self.env.observation_space.n)) / self.env.action_space.n\n",
    "        self.q_values = np.ones((self.env.observation_space.n, self.env.action_space.n)) / self.env.action_space.n\n",
    "        self.state_values[self.env.observation_space.n - 1] = 0\n",
    "        self.q_values[self.env.observation_space.n - 1] = np.zeros((self.env.action_space.n))\n",
    "        self.policy = np.random.randint(self.env.action_space.n, size=self.env.observation_space.n) # initial policy\n",
    "        self.policy_stable = False\n",
    "\n",
    "    def policy_evaluation(self):\n",
    "        self.delta = np.inf\n",
    "\n",
    "        while(self.delta >= self.theta):\n",
    "\n",
    "            self.delta = 0\n",
    "\n",
    "            for state in range(self.env.observation_space.n):\n",
    "\n",
    "                v = self.state_values[state]\n",
    "\n",
    "                new_state_value = 0\n",
    "                for probability, next_state, reward, done in self.env.P[state][self.policy[state]]:\n",
    "                    ### START CODE HERE ###\n",
    "                    new_state_value += probability * (reward + self.state_values[next_state] * self.discount_factor)\n",
    "                    ### END CODE HERE ###\n",
    "                self.state_values[state] = new_state_value\n",
    "\n",
    "                self.delta = np.max([self.delta, abs(v - self.state_values[state])])\n",
    "\n",
    "    def policy_improvement(self):\n",
    "        self.policy_stable = True\n",
    "\n",
    "        for state in range(self.env.observation_space.n):\n",
    "            old_policy = self.policy[state]\n",
    "\n",
    "            for action in range(self.env.action_space.n):\n",
    "\n",
    "                action_value = 0\n",
    "                for probability, next_state, reward, done in self.env.P[state][action]:\n",
    "                    ### START CODE HERE ###\n",
    "                    action_value += probability * (reward + self.state_values[next_state] * self.discount_factor)\n",
    "                    ### END CODE HERE ###\n",
    "                self.q_values[state, action] = action_value\n",
    "\n",
    "            self.policy[state] = np.argmax(self.q_values[state,:])\n",
    "\n",
    "            if old_policy != self.policy[state]:\n",
    "                self.policy_stable = False\n",
    "\n",
    "    def policy_estimation(self):\n",
    "        self.policy_stable = False\n",
    "\n",
    "        n = 0\n",
    "        while not self.policy_stable:\n",
    "            self.policy_evaluation()\n",
    "            self.policy_improvement()\n",
    "            n+=1\n",
    "        \n",
    "        return n\n",
    "\n",
    "    def take_action(self, action):\n",
    "        next_state, reward, done, _, _ = self.env.step(action)\n",
    "        return next_state, reward, done\n",
    "\n",
    "    def get_optimal_policy(self, state):\n",
    "        return self.policy[state]\n",
    "\n",
    "    def get_state_values(self):\n",
    "        return self.state_values\n",
    "\n",
    "    def get_q_values(self):\n",
    "        return self.q_values\n",
    "\n",
    "    def reset(self):\n",
    "        initial_state = self.env.reset()\n",
    "        return initial_state"
   ]
  },
  {
   "cell_type": "markdown",
   "metadata": {
    "id": "u4G-kVjmLYj4"
   },
   "source": [
    "<a name='1-3'></a>\n",
    "### Question 5:"
   ]
  },
  {
   "cell_type": "markdown",
   "metadata": {},
   "source": [
    "<a name='1-3-1'></a>\n",
    "#### Showing Results:"
   ]
  },
  {
   "cell_type": "code",
   "execution_count": 4,
   "metadata": {},
   "outputs": [],
   "source": [
    "def show_human(value_iter):\n",
    "    value_iter.env.reset()\n",
    "    curr_state = 0\n",
    "    done = False\n",
    "    \n",
    "    value_iter.env.render()\n",
    "    time.sleep(1)\n",
    "    while (not done):\n",
    "        curr_state, reward, done = value_iter.take_action(value_iter.get_optimal_policy(curr_state))\n",
    "        value_iter.env.render()\n",
    "        time.sleep(1)\n",
    "\n",
    "\n",
    "def show_heatmap(value_iter:ValueIteration, name=\"Unknown Iteration\"):\n",
    "    row_n = int(value_iter.env.observation_space.n**0.5) # modified so 8x8 map can be observed as well\n",
    "    col_n = int(value_iter.env.observation_space.n**0.5)\n",
    "    map = [value_iter.get_state_values()[j*row_n:(j+1)*row_n] for j in range(col_n)]\n",
    "    seaborn.heatmap(map, annot=True, cmap='viridis')\n",
    "    plt.title(name)\n",
    "    plt.ylabel(\"States Y\")\n",
    "    plt.xlabel(\"States X\")\n",
    "    plt.grid()\n",
    "    plt.show()"
   ]
  },
  {
   "cell_type": "markdown",
   "metadata": {},
   "source": [
    "<a name='1-3-1'></a>\n",
    "#### Value Iteration:"
   ]
  },
  {
   "cell_type": "code",
   "execution_count": 5,
   "metadata": {
    "id": "RGYLOfYAuKjY"
   },
   "outputs": [
    {
     "data": {
      "image/png": "[encoded data removed]",
      "text/plain": [
       "<Figure size 640x480 with 2 Axes>"
      ]
     },
     "metadata": {},
     "output_type": "display_data"
    },
    {
     "name": "stderr",
     "output_type": "stream",
     "text": [
      "C:\\Users\\arian\\AppData\\Local\\Programs\\Python\\Python310\\lib\\site-packages\\gym\\utils\\passive_env_checker.py:233: DeprecationWarning: `np.bool8` is a deprecated alias for `np.bool_`.  (Deprecated NumPy 1.24)\n",
      "  if not isinstance(terminated, (bool, np.bool8)):\n"
     ]
    }
   ],
   "source": [
    "env = gym.make('FrozenLake-v1', desc=None, map_name=\"4x4\", render_mode=\"human\", is_slippery=False)\n",
    "\n",
    "value_iter = ValueIteration(env, 0.9)\n",
    "value_iter.value_estimation()\n",
    "show_heatmap(value_iter, \"Value Iteration\")\n",
    "show_human(value_iter)\n",
    "\n",
    "env.close()"
   ]
  },
  {
   "cell_type": "markdown",
   "metadata": {
    "id": "ipZlzoXH40Mn"
   },
   "source": [
    "<a name='1-3-2'></a>\n",
    "#### Policy Iteration:"
   ]
  },
  {
   "cell_type": "code",
   "execution_count": 6,
   "metadata": {
    "id": "7Vxf_xKc44QT"
   },
   "outputs": [
    {
     "data": {
      "image/png": "[encoded data removed]",
      "text/plain": [
       "<Figure size 640x480 with 2 Axes>"
      ]
     },
     "metadata": {},
     "output_type": "display_data"
    },
    {
     "name": "stderr",
     "output_type": "stream",
     "text": [
      "C:\\Users\\arian\\AppData\\Local\\Programs\\Python\\Python310\\lib\\site-packages\\gym\\utils\\passive_env_checker.py:233: DeprecationWarning: `np.bool8` is a deprecated alias for `np.bool_`.  (Deprecated NumPy 1.24)\n",
      "  if not isinstance(terminated, (bool, np.bool8)):\n"
     ]
    }
   ],
   "source": [
    "env = gym.make('FrozenLake-v1', desc=None, map_name=\"4x4\", render_mode=\"human\", is_slippery=False)\n",
    "\n",
    "policy_iter = PolicyIteration(env, 0.9)\n",
    "policy_iter.policy_estimation()\n",
    "show_heatmap(policy_iter, \"Policy Iteration\")\n",
    "show_human(policy_iter)\n",
    "\n",
    "env.close()"
   ]
  },
  {
   "cell_type": "markdown",
   "metadata": {
    "id": "A3fnAFqJLpVI"
   },
   "source": [
    "<a name='1-4'></a>\n",
    "### Question 6:"
   ]
  },
  {
   "cell_type": "markdown",
   "metadata": {
    "id": "7JuoMPH_PAcv"
   },
   "source": [
    "<a name='1-4-1'></a>\n",
    "#### Value Iteration:"
   ]
  },
  {
   "cell_type": "code",
   "execution_count": 7,
   "metadata": {
    "id": "vCBnAicAPAcv"
   },
   "outputs": [
    {
     "name": "stdout",
     "output_type": "stream",
     "text": [
      "7.0\n"
     ]
    }
   ],
   "source": [
    "REPS = 40\n",
    "\n",
    "env = gym.make('FrozenLake-v1', desc=None, map_name=\"4x4\", render_mode=\"human\", is_slippery=False)\n",
    "\n",
    "avg_episode_count = 0\n",
    "for i in range(REPS):\n",
    "    value_iter = ValueIteration(env, 0.9)\n",
    "    avg_episode_count += value_iter.value_estimation()\n",
    "avg_episode_count /= REPS\n",
    "print(avg_episode_count)\n",
    "\n",
    "env.close()\n"
   ]
  },
  {
   "cell_type": "markdown",
   "metadata": {
    "id": "C1BMk-BfPAcv"
   },
   "source": [
    "<a name='1-4-2'></a>\n",
    "#### Policy Iteration:"
   ]
  },
  {
   "cell_type": "code",
   "execution_count": 8,
   "metadata": {
    "id": "LnUZpvLP446n"
   },
   "outputs": [
    {
     "name": "stdout",
     "output_type": "stream",
     "text": [
      "6.45\n"
     ]
    }
   ],
   "source": [
    "env = gym.make('FrozenLake-v1', desc=None, map_name=\"4x4\", render_mode=\"human\", is_slippery=False)\n",
    "\n",
    "avg_episode_count = 0\n",
    "for i in range(REPS):\n",
    "    policy_iter = PolicyIteration(env, 0.9)\n",
    "    avg_episode_count += policy_iter.policy_estimation()\n",
    "avg_episode_count /= REPS\n",
    "print(avg_episode_count)\n",
    "\n",
    "env.close()"
   ]
  },
  {
   "cell_type": "markdown",
   "metadata": {},
   "source": [
    "<a name='1-4-3'></a>\n",
    "### Results:"
   ]
  },
  {
   "cell_type": "markdown",
   "metadata": {},
   "source": [
    "Policy iteration has slightly better performance since the number of episodes is generally fewer than value iteration algorithm. Value iteration solves the problem in 7 iterations while policy iteration does the same with an average of 6.4 episodes, which is not significant since the frozen lake is a relatively easy problem to solve. As for time complexity, both algorithms take the same amount of time to find the answer, but again, this is due to problem being easy to solve; For example in an 8x8 map performance difference starts to get more visible."
   ]
  },
  {
   "cell_type": "markdown",
   "metadata": {
    "id": "hLtPLm-ELpG9"
   },
   "source": [
    "<a name='2'></a>\n",
    "## Part 2: Q-Learning Algorithm"
   ]
  },
  {
   "cell_type": "code",
   "execution_count": 9,
   "metadata": {
    "id": "3cW_rkeDMOE8"
   },
   "outputs": [],
   "source": [
    "# hyperparameters\n",
    "REPS = 20\n",
    "EPISODES = 2000\n",
    "EPSILON = 0.1\n",
    "LEARNING_RATE = 0.1\n",
    "DISCOUNT = 0.9\n",
    "STUDENT_NUM = 196"
   ]
  },
  {
   "cell_type": "markdown",
   "metadata": {},
   "source": [
    "<a name='2-1'></a>\n",
    "### Qestion 7:"
   ]
  },
  {
   "cell_type": "markdown",
   "metadata": {},
   "source": [
    "Q-learning is a reinforcement learning algorithm that is based on optimizing the total reward using an off-policy algorithm. Q-values are calculated using below formula:\n",
    "\n",
    "Q(s, a) = Q(s, a) + learning rate * [reward + discount * max Q(s', a') - Q(s,a)]\n",
    "\n",
    "As discussed, this formula is off-policy, allowing the algorithm to explore the map and find the optimal policy."
   ]
  },
  {
   "cell_type": "markdown",
   "metadata": {
    "id": "oZJAP4nMLpiZ"
   },
   "source": [
    "<a name='2-2'></a>\n",
    "### Question 8:"
   ]
  },
  {
   "cell_type": "code",
   "execution_count": 10,
   "metadata": {
    "executionInfo": {
     "elapsed": 503,
     "status": "ok",
     "timestamp": 1698434549406,
     "user": {
      "displayName": "Mohammad Saadati",
      "userId": "00242434153251678664"
     },
     "user_tz": -210
    },
    "id": "Ue4m5fg9450B"
   },
   "outputs": [],
   "source": [
    "class QLearningAgent():\n",
    "    def __init__(self, env:gym, epsilon, learning_rate, discount_factor, seed):\n",
    "      self.env = env\n",
    "      self.epsilon = epsilon\n",
    "      self.learning_rate = learning_rate\n",
    "      self.olr = learning_rate\n",
    "      self.discount_factor = discount_factor\n",
    "      self.q_table = np.zeros((env.observation_space.n, env.action_space.n))\n",
    "\n",
    "      self.seed = seed\n",
    "\n",
    "    def run_episode(self, episode, decreasing = False):\n",
    "      state, _ = self.reset()\n",
    "      reward_all = 0\n",
    "      done = False\n",
    "      i = 0\n",
    "      if decreasing:\n",
    "        self.decrease_learning_rate(episode)\n",
    "        self.decay_epsilon(episode)\n",
    "\n",
    "      while not done:\n",
    "        action = self.choose_action(state) \n",
    "        next_state, reward, done = self.take_action(action)\n",
    "        reward_all += reward\n",
    "        self.update_q_table(state, action, next_state, reward)\n",
    "        state = next_state\n",
    "        i+=1\n",
    "\n",
    "      return reward_all\n",
    "\n",
    "    def choose_action(self, state):\n",
    "      ### START CODE HERE ###\n",
    "      if random.random() < self.epsilon:\n",
    "        action = random.randint(0, self.env.action_space.n - 1)\n",
    "      else:\n",
    "        action = np.argmax(self.q_table[state])\n",
    "      ### END CODE HERE ###\n",
    "      return action\n",
    "\n",
    "    def update_q_table(self, state, action, nextState, reward):\n",
    "      ### START CODE HERE ###\n",
    "      self.q_table[state][action] += self.learning_rate * (reward + self.discount_factor * np.max(self.q_table[nextState]) - self.q_table[state][action])\n",
    "      ### END CODE HERE ###\n",
    "\n",
    "    def decay_epsilon(self, episode):\n",
    "      ### START CODE HERE ###\n",
    "      self.epsilon = np.max([self.epsilon - self.epsilon * episode / EPISODES, 0.001])\n",
    "      ### END CODE HERE ###\n",
    "\n",
    "    def decrease_learning_rate(self, episode):\n",
    "      ### START CODE HERE ###\n",
    "      self.learning_rate = np.max([self.learning_rate - self.learning_rate/10 * episode / EPISODES, 0.001])\n",
    "      ### END CODE HERE ###\n",
    "\n",
    "    def take_action(self, action):\n",
    "      next_state, reward, done, _, _ = self.env.step(action)\n",
    "      return next_state, reward, done\n",
    "\n",
    "    def get_optimal_policy(self, state):\n",
    "      return np.argmax(self.q_table[state])\n",
    "\n",
    "    def get_q_values(self):\n",
    "      return self.q_table\n",
    "\n",
    "    def reset(self):\n",
    "      return self.env.reset(seed=self.seed)"
   ]
  },
  {
   "cell_type": "markdown",
   "metadata": {
    "id": "c5HFAMk-Lpvs"
   },
   "source": [
    "<a name='2-3'></a>\n",
    "### Question 9:"
   ]
  },
  {
   "cell_type": "markdown",
   "metadata": {},
   "source": [
    "#### Constant Learning Rate:"
   ]
  },
  {
   "cell_type": "code",
   "execution_count": 11,
   "metadata": {},
   "outputs": [
    {
     "name": "stderr",
     "output_type": "stream",
     "text": [
      "C:\\Users\\arian\\AppData\\Local\\Programs\\Python\\Python310\\lib\\site-packages\\gym\\envs\\registration.py:623: UserWarning: \u001b[33mWARN: The environment is being initialised with mode () that is not in the possible render_modes (['human', 'ansi', 'rgb_array']).\u001b[0m\n",
      "  logger.warn(\n"
     ]
    },
    {
     "data": {
      "image/png": "[encoded data removed]",
      "text/plain": [
       "<Figure size 640x480 with 1 Axes>"
      ]
     },
     "metadata": {},
     "output_type": "display_data"
    }
   ],
   "source": [
    "env = gym.make('Taxi-v3', render_mode=\"\")\n",
    "q_learning = QLearningAgent(env, EPSILON, LEARNING_RATE, DISCOUNT, STUDENT_NUM)\n",
    "env.reset()\n",
    "\n",
    "all_rewards = [[] for _ in range(REPS)]\n",
    "for rep in range(REPS):\n",
    "  for episode in range(EPISODES):\n",
    "    all_rewards[rep].append(q_learning.run_episode(episode, decreasing=False))\n",
    "\n",
    "avg_rewards = []\n",
    "for i in range(EPISODES):\n",
    "  avg_rewards.append(sum(all_rewards[rep][i] for rep in range(REPS))/REPS)\n",
    "\n",
    "plt.plot(avg_rewards)\n",
    "plt.title(\"Average of Rewards in Each Episode\")\n",
    "plt.ylabel(\"Reward\")\n",
    "plt.xlabel(\"Episode\")\n",
    "plt.show()"
   ]
  },
  {
   "cell_type": "markdown",
   "metadata": {},
   "source": [
    "#### Decreasing Learning Rate:"
   ]
  },
  {
   "cell_type": "code",
   "execution_count": 15,
   "metadata": {},
   "outputs": [
    {
     "data": {
      "image/png": "[encoded data removed]",
      "text/plain": [
       "<Figure size 640x480 with 1 Axes>"
      ]
     },
     "metadata": {},
     "output_type": "display_data"
    }
   ],
   "source": [
    "env = gym.make('Taxi-v3', render_mode=\"\")\n",
    "env = gym.make('Taxi-v3', render_mode=\"\")\n",
    "q_learning = QLearningAgent(env, EPSILON, LEARNING_RATE, DISCOUNT, STUDENT_NUM)\n",
    "env.reset()\n",
    "\n",
    "all_rewards = [[] for _ in range(REPS)]\n",
    "for rep in range(REPS):\n",
    "  for episode in range(EPISODES):\n",
    "    all_rewards[rep].append(q_learning.run_episode(episode, decreasing=True))\n",
    "\n",
    "avg_rewards = []\n",
    "for i in range(EPISODES):\n",
    "  avg_rewards.append(sum(all_rewards[rep][i] for rep in range(REPS))/REPS)\n",
    "\n",
    "plt.plot(avg_rewards)\n",
    "plt.title(\"Average of Rewards in Each Episode\")\n",
    "plt.ylabel(\"Reward\")\n",
    "plt.xlabel(\"Episode\")\n",
    "plt.show()"
   ]
  },
  {
   "cell_type": "markdown",
   "metadata": {},
   "source": [
    "As plotted above, decreasing learning rate and epsilon causes the algorithm to converge faster, resulting in a less disturbed diagram. In this implementation, epsilon is decreased by subtracting a small fraction of it by each episode, if epsilon is less than 0.001, the algorithm doesn't decrease it since it would almost stop the q-learning process."
   ]
  },
  {
   "cell_type": "markdown",
   "metadata": {
    "id": "BVcMKEGDQWdU"
   },
   "source": [
    "<a name='2-4'></a>\n",
    "### Question 10:"
   ]
  },
  {
   "cell_type": "code",
   "execution_count": 13,
   "metadata": {
    "id": "qgRhXXmwo6MT"
   },
   "outputs": [],
   "source": [
    "def show_taxi(agent:QLearningAgent):\n",
    "    showenv = gym.make('Taxi-v3', render_mode=\"human\")\n",
    "    state , _ = showenv.reset(seed=STUDENT_NUM)\n",
    "    q_values = agent.get_q_values()\n",
    "    done = False\n",
    "    showenv.render()\n",
    "    time.sleep(0.5)\n",
    "    while not done:\n",
    "      action = np.argmax(q_values[state])\n",
    "      state, reward, done, _, _ = showenv.step(action)\n",
    "      showenv.render()\n",
    "      time.sleep(0.5)\n",
    "    showenv.close()"
   ]
  },
  {
   "cell_type": "code",
   "execution_count": 14,
   "metadata": {},
   "outputs": [],
   "source": [
    "env = gym.make('Taxi-v3', render_mode=\"\")\n",
    "q_learning = QLearningAgent(env, EPSILON, LEARNING_RATE, DISCOUNT, STUDENT_NUM)\n",
    "env.reset()\n",
    "\n",
    "for episode in range(EPISODES):\n",
    "    q_learning.run_episode(episode, decreasing=True)\n",
    "\n",
    "show_taxi(q_learning)"
   ]
  }
 ],
 "metadata": {
  "colab": {
   "provenance": [],
   "toc_visible": true
  },
  "kernelspec": {
   "display_name": "Python 3 (ipykernel)",
   "language": "python",
   "name": "python3"
  },
  "language_info": {
   "codemirror_mode": {
    "name": "ipython",
    "version": 3
   },
   "file_extension": ".py",
   "mimetype": "text/x-python",
   "name": "python",
   "nbconvert_exporter": "python",
   "pygments_lexer": "ipython3",
   "version": "3.10.7"
  }
 },
 "nbformat": 4,
 "nbformat_minor": 4
}
